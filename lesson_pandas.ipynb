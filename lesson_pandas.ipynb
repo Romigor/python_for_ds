{
 "cells": [
  {
   "cell_type": "code",
   "execution_count": 1,
   "metadata": {},
   "outputs": [],
   "source": [
    "# Задание 1\n",
    "# Импортируйте библиотеку Pandas и дайте ей псевдоним pd.\n",
    "# Создайте датафрейм authors со столбцами author_id и author_name,\n",
    "# в которых соответственно содержатся данные:\n",
    "# [1, 2, 3] и ['Тургенев', 'Чехов', 'Островский'].\n",
    "# Затем создайте датафрейм book cо столбцами author_id, book_title и price,\n",
    "# в которых соответственно содержатся данные: \n",
    "# [1, 1, 1, 2, 2, 3, 3],\n",
    "# ['Отцы и дети', 'Рудин', 'Дворянское гнездо', 'Толстый и тонкий', 'Дама с собачкой', 'Гроза', 'Таланты и поклонники'],\n",
    "# [450, 300, 350, 500, 450, 370, 290].\n",
    "\n",
    "import pandas as pd\n",
    "\n",
    "authors = pd.DataFrame({  'author_id': [1,2,3]\n",
    "                        , 'author_name': ['Тургенев','Чехов','Островский']\n",
    "                       })\n",
    "\n",
    "book = pd.DataFrame({  'author_id': [1, 1, 1, 2, 2, 3, 3]\n",
    "                     , 'book_title': ['Отцы и дети', 'Рудин', 'Дворянское гнездо', 'Толстый и тонкий', 'Дама с собачкой', 'Гроза', 'Таланты и поклонники']\n",
    "                     , 'price': [450, 300, 350, 500, 450, 370, 290]\n",
    "                    \n",
    "                    })\n"
   ]
  },
  {
   "cell_type": "code",
   "execution_count": 2,
   "metadata": {},
   "outputs": [],
   "source": [
    "# Задание 2\n",
    "# Получите датафрейм authors_price, соединив датафреймы authors и books по полю author_id.\n",
    "\n",
    "authors_price = pd.merge(authors, book,  on = 'author_id')\n"
   ]
  },
  {
   "cell_type": "code",
   "execution_count": 3,
   "metadata": {},
   "outputs": [],
   "source": [
    "# Задание 3\n",
    "# Создайте датафрейм top5, в котором содержатся строки из authors_price \n",
    "# с пятью самыми дорогими книгами.\n",
    "\n",
    "top5 = authors_price.sort_values('price', ascending = False).head(5)\n"
   ]
  },
  {
   "cell_type": "code",
   "execution_count": 4,
   "metadata": {},
   "outputs": [],
   "source": [
    "# Задание 4\n",
    "# Создайте датафрейм authors_stat на основе информации из authors_price.\n",
    "# В датафрейме authors_stat должны быть четыре столбца:\n",
    "# author_name, min_price, max_price и mean_price,\n",
    "# в которых должны содержаться соответственно имя автора,\n",
    "# минимальная, максимальная и средняя цена на книги этого автора.\n",
    "\n",
    "authors_stat = authors_price.groupby('author_name').agg({ 'price': [min, max, 'mean'] })\n",
    "authors_stat = authors_stat.reset_index() \n",
    "authors_stat.columns = ['author_name', 'min_price', 'max_price', 'mean_price']"
   ]
  },
  {
   "cell_type": "code",
   "execution_count": 51,
   "metadata": {},
   "outputs": [
    {
     "data": {
      "text/plain": [
       "True"
      ]
     },
     "execution_count": 51,
     "metadata": {},
     "output_type": "execute_result"
    }
   ],
   "source": [
    "# * Задание 5\n",
    "# Создайте новый столбец в датафрейме authors_price под названием cover,\n",
    "# в нем будут располагаться данные о том, какая обложка у данной книги - твердая или мягкая.\n",
    "# В этот столбец поместите данные из следующего списка:\n",
    "# ['твердая', 'мягкая', 'мягкая', 'твердая', 'твердая', 'мягкая', 'мягкая'].\n",
    "# Просмотрите документацию по функции pd.pivot_table \n",
    "# с помощью вопросительного знака.\n",
    "\n",
    "# Для каждого автора посчитайте суммарную стоимость книг в твердой и мягкой обложке.\n",
    "# Используйте для этого функцию pd.pivot_table. \n",
    "# При этом столбцы должны называться \"твердая\" и \"мягкая\",\n",
    "# а индексами должны быть фамилии авторов. Пропущенные значения стоимостей заполните нулями,\n",
    "# при необходимости загрузите библиотеку Numpy.\n",
    "\n",
    "# Назовите полученный датасет book_info и сохраните его в формат pickle под названием \"book_info.pkl\".\n",
    "# Затем загрузите из этого файла датафрейм и назовите его book_info2.\n",
    "# Удостоверьтесь, что датафреймы book_info и book_info2 идентичны.\n",
    "\n",
    "authors_price['cover'] = ['твердая', 'мягкая', 'мягкая', 'твердая', 'твердая', 'мягкая', 'мягкая']\n",
    "\n",
    "book_info = pd.pivot_table(  authors_price\n",
    "                           , values = ['price']\n",
    "                           , index = ['author_name']\n",
    "                           , columns = ['cover']\n",
    "                           , aggfunc = sum\n",
    "                           , fill_value = 0)\n",
    "\n",
    "book_info.columns = ['мягкая', 'твердая']\n",
    "book_info.to_pickle('book_info.pkl')\n",
    "book_info2 = pd.read_pickle('book_info.pkl')\n",
    "book_info.equals(book_info2)"
   ]
  }
 ],
 "metadata": {
  "kernelspec": {
   "display_name": "Python 3",
   "language": "python",
   "name": "python3"
  },
  "language_info": {
   "codemirror_mode": {
    "name": "ipython",
    "version": 3
   },
   "file_extension": ".py",
   "mimetype": "text/x-python",
   "name": "python",
   "nbconvert_exporter": "python",
   "pygments_lexer": "ipython3",
   "version": "3.7.1"
  }
 },
 "nbformat": 4,
 "nbformat_minor": 2
}
